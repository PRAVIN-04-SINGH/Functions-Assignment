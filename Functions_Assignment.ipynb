{
  "nbformat": 4,
  "nbformat_minor": 0,
  "metadata": {
    "colab": {
      "provenance": []
    },
    "kernelspec": {
      "name": "python3",
      "display_name": "Python 3"
    },
    "language_info": {
      "name": "python"
    }
  },
  "cells": [
    {
      "cell_type": "markdown",
      "source": [
        "# **Theory Questions:**"
      ],
      "metadata": {
        "id": "pSYb1rKK9Bnq"
      }
    },
    {
      "cell_type": "markdown",
      "source": [
        "1.  **What is the difference between a function and a method in Python?**\n",
        "- **Function**:\n",
        "\n",
        "  - A function is a block of code that is defined using the def keyword.\n",
        "\n",
        "  - Functions are not bound to any object and can be called independently.\n",
        "   \n"
      ],
      "metadata": {
        "id": "JpBiFdpYfa8d"
      }
    },
    {
      "cell_type": "code",
      "source": [
        "# Example\n",
        "def greet():\n",
        "  print(\"How are you \")\n",
        "greet()"
      ],
      "metadata": {
        "colab": {
          "base_uri": "https://localhost:8080/"
        },
        "id": "lAfK0QnE7wt7",
        "outputId": "d5a0a452-e963-4d21-eb95-66ce6bf68a4d"
      },
      "execution_count": null,
      "outputs": [
        {
          "output_type": "stream",
          "name": "stdout",
          "text": [
            "How are you \n"
          ]
        }
      ]
    },
    {
      "cell_type": "markdown",
      "source": [
        " - **Method**:\n",
        "\n",
        "   - A method is similar to a function, but it is associated with an object (usually an instance of a class).\n",
        "\n",
        "   - Methods are defined within a class and can operate on the data contained within that class."
      ],
      "metadata": {
        "id": "MP2kN1m28L_-"
      }
    },
    {
      "cell_type": "code",
      "source": [
        "# Example\n",
        "class Greeter:\n",
        "    def __init__(self, name):\n",
        "        self.name = name\n",
        "\n",
        "    def greet(self):\n",
        "        print(f\"Hello, {self.name}\")\n",
        "\n",
        "greeter = Greeter(\"Ajay\")\n",
        "greeter.greet()\n",
        "\n"
      ],
      "metadata": {
        "colab": {
          "base_uri": "https://localhost:8080/"
        },
        "id": "ZCxwRvsG75bs",
        "outputId": "ea89ee03-4d8c-49f2-e3ef-04866c4f3640"
      },
      "execution_count": null,
      "outputs": [
        {
          "output_type": "stream",
          "name": "stdout",
          "text": [
            "Hello, Ajay\n"
          ]
        }
      ]
    },
    {
      "cell_type": "markdown",
      "source": [
        "2**. Explain the concept of function arguments and parameters in Python.**\n",
        "- Parameters:\n",
        "\n",
        "  - Parameters are the variables listed inside the parentheses in the function definition.\n",
        "\n",
        "  - They act as placeholders for the values that the function will receive when it's called."
      ],
      "metadata": {
        "id": "fJ5NUaW29oRx"
      }
    },
    {
      "cell_type": "code",
      "source": [
        "# example\n",
        "def add_numbers(a, b):   # Here, a and b are parameters of the add_numbers function.\n",
        "    return a + b"
      ],
      "metadata": {
        "id": "NVdAMiSk8wjp"
      },
      "execution_count": null,
      "outputs": []
    },
    {
      "cell_type": "markdown",
      "source": [
        "- Arguments:\n",
        "\n",
        "  - Arguments are the actual values or data you pass to the function when you call it.\n",
        "\n",
        "  - They are assigned to the parameters in the function definition."
      ],
      "metadata": {
        "id": "GhNZgFNK-i50"
      }
    },
    {
      "cell_type": "code",
      "source": [
        "# example\n",
        "result = add_numbers(5, 3)   # Here, 5 and 3 are the arguments passed to the add_numbers function.\n"
      ],
      "metadata": {
        "id": "0222tsAA_26L"
      },
      "execution_count": null,
      "outputs": []
    },
    {
      "cell_type": "markdown",
      "source": [
        "3**. What are the different ways to define and call a function in Python?**\n",
        "- **Defining Functions**\n",
        "   - Standard Function Definition:\n",
        "    - Defined using the def keyword followed by the function name and parentheses."
      ],
      "metadata": {
        "id": "3rRT72YZABqo"
      }
    },
    {
      "cell_type": "code",
      "source": [
        "def greet():\n",
        "    print(\"Hello, world!\")\n"
      ],
      "metadata": {
        "id": "EkG_RCo4BaR9"
      },
      "execution_count": null,
      "outputs": []
    },
    {
      "cell_type": "markdown",
      "source": [
        "  - Lambda Functions:\n",
        "\n",
        "    - Anonymous functions defined using the lambda keyword.\n",
        "\n",
        "    - Typically used for small, single-use functions."
      ],
      "metadata": {
        "id": "AVQ3LZNmBbOA"
      }
    },
    {
      "cell_type": "code",
      "source": [
        "add = lambda x, y: x + y\n"
      ],
      "metadata": {
        "id": "r_0Rr4p_CcOt"
      },
      "execution_count": null,
      "outputs": []
    },
    {
      "cell_type": "markdown",
      "source": [
        "- Functions with Default Parameters:\n",
        "\n",
        "  - Functions can have parameters with default values."
      ],
      "metadata": {
        "id": "6UsablqeCeQb"
      }
    },
    {
      "cell_type": "code",
      "source": [
        "def greet(name=\"world\"):\n",
        "    print(f\"Hello, {name}!\")\n"
      ],
      "metadata": {
        "id": "keCiaTM6Cqr7"
      },
      "execution_count": null,
      "outputs": []
    },
    {
      "cell_type": "markdown",
      "source": [
        "- Functions with Arbitrary Arguments:\n",
        "\n",
        "  - Use *args for a variable number of positional arguments.\n",
        "\n",
        "  - Use **kwargs for a variable number of keyword arguments."
      ],
      "metadata": {
        "id": "8bVJ-C8rCuCp"
      }
    },
    {
      "cell_type": "code",
      "source": [
        "def show_args(*args):\n",
        "    for arg in args:\n",
        "        print(arg)\n",
        "\n",
        "def show_kwargs(**kwargs):\n",
        "    for key, value in kwargs.items():\n",
        "        print(f\"{key}: {value}\")\n"
      ],
      "metadata": {
        "id": "vGOnfZX2CtzU"
      },
      "execution_count": null,
      "outputs": []
    },
    {
      "cell_type": "markdown",
      "source": [
        " - **Calling Functions**\n",
        "   - Calling Functions Without Arguments:\n",
        "\n",
        "      - Simply call the function by its name followed by parentheses"
      ],
      "metadata": {
        "id": "LOaXj58qC8db"
      }
    },
    {
      "cell_type": "code",
      "source": [
        "greet()  # Output: Hello, world!\n"
      ],
      "metadata": {
        "id": "E5wwLlsTDNAv"
      },
      "execution_count": null,
      "outputs": []
    },
    {
      "cell_type": "markdown",
      "source": [
        "- Calling Functions With Positional Arguments:\n",
        "\n",
        "  - Provide the arguments in the same order as the parameters."
      ],
      "metadata": {
        "id": "koO_lJemDOH1"
      }
    },
    {
      "cell_type": "code",
      "source": [
        "def add(x, y):\n",
        "    return x + y\n",
        "\n",
        "result = add(3, 5)  # Output: 8\n"
      ],
      "metadata": {
        "id": "lW7Yp2-nDitd"
      },
      "execution_count": null,
      "outputs": []
    },
    {
      "cell_type": "markdown",
      "source": [
        " - Calling Functions With Keyword Arguments:\n",
        "\n",
        "   - Provide arguments as key-value pairs, which can be in any order."
      ],
      "metadata": {
        "id": "DE2Gt1wzDkkf"
      }
    },
    {
      "cell_type": "code",
      "source": [
        "greet(\"Bob\")  # Output: Hello, Bob!\n",
        "greet(\"Bob\", \"Hi\")  # Output: Hi, Bob!\n"
      ],
      "metadata": {
        "id": "wHhH5V2SDuhY"
      },
      "execution_count": null,
      "outputs": []
    },
    {
      "cell_type": "markdown",
      "source": [
        " - Calling Functions with Arbitrary Arguments:\n",
        "\n",
        "  - Use *args to pass a variable number of positional arguments.\n",
        "\n",
        "  - Use **kwargs to pass a variable number of keyword arguments."
      ],
      "metadata": {
        "id": "D5runTKJD18E"
      }
    },
    {
      "cell_type": "code",
      "source": [
        "show_args(1, 2, 3)"
      ],
      "metadata": {
        "id": "LcDzhjKqD-a3"
      },
      "execution_count": null,
      "outputs": []
    },
    {
      "cell_type": "markdown",
      "source": [
        "4. **What is the purpose of the `return` statement in a Python function?**\n",
        "- The return statement in a Python function is used to exit the function and send back a value to the caller. It allows you to send a result from a function to the part of your program that called it. If a function does not have a return statement, it will return None by default.\n"
      ],
      "metadata": {
        "id": "rdrbzXs7ENqV"
      }
    },
    {
      "cell_type": "code",
      "source": [
        "def add(a, b):\n",
        "    return a + b\n",
        "\n",
        "result = add(3, 5)\n",
        "print(result)  # Output: 8\n",
        "#In this example, the add function takes two arguments, a and b, adds them together, and\n",
        "# then returns the result to where the function was called.\n",
        "#The returned value is then stored in the variable result and printed out."
      ],
      "metadata": {
        "id": "m1uWZb7we_Yb"
      },
      "execution_count": null,
      "outputs": []
    },
    {
      "cell_type": "markdown",
      "source": [
        "5.**What are iterators in Python and how do they differ from iterables?**\n",
        "- Iterables:\n",
        "  - An iterable is any Python object that can return its members one at a time, allowing it to be looped over in a for loop.\n",
        "\n",
        "  - Examples include lists, tuples, dictionaries, and sets.\n",
        "\n",
        "  - In technical terms, an object is considered iterable if it implements the __iter__() method.\n",
        "- Iterators:\n",
        "\n",
        "  - An iterator is an object that represents a stream of data. It returns the data one element at a time.\n",
        "\n",
        "  - An iterator must implement two methods: __iter__() and __next__().\n",
        "\n",
        "  - The __iter__() method returns the iterator object itself.\n",
        "\n",
        "  - The __next__() method returns the next value from the iterator. When there are no more items to return, it raises a StopIteration exception. -\n",
        "- Key Differences:\n",
        "  - Purpose: Iterables are containers for a collection of elements; iterators are used to access these elements one at a time.\n",
        "\n",
        "  - Method Implementation: Iterables implement the __iter__() method. Iterators implement both the __iter__() and __next__() methods.\n",
        "\n",
        "  - Usage: You can loop through an iterable using a for loop directly, but to manually loop through an iterator, you use the next() function."
      ],
      "metadata": {
        "id": "9OkFMd_8fN4y"
      }
    },
    {
      "cell_type": "code",
      "source": [
        "# Creating an iterable (a list)\n",
        "my_list = [1, 2, 3, 4]\n",
        "\n",
        "# Getting an iterator from the iterable\n",
        "my_iterator = iter(my_list)\n",
        "\n",
        "print(next(my_iterator))  # Output: 1\n",
        "print(next(my_iterator))  # Output: 2\n",
        "print(next(my_iterator))  # Output: 3\n",
        "print(next(my_iterator))  # Output: 4\n"
      ],
      "metadata": {
        "id": "WJB16FoHTBtb"
      },
      "execution_count": null,
      "outputs": []
    },
    {
      "cell_type": "markdown",
      "source": [
        "6. **Explain the concept of generators in Python and how they are defined**.\n",
        "\n",
        "Generators are a special type of iterator in Python that allow you to iterate over a sequence of values without storing them in memory all at once. This makes them very memory-efficient, especially when dealing with large datasets. Generators are defined using a function rather than a class, and they use the yield keyword to produce a series of values.\n",
        "- Key Characteristics of Generators:\n",
        "\n",
        " - Lazy Evaluation: Generators produce values one at a time and only when requested. This means they don't compute all values at once, which can save memory.\n",
        "\n",
        " - Statefulness: Each time a generator's yield statement is executed, the function's state (including variable values) is saved. When the generator is resumed, it picks up where it left off.\n",
        "\n",
        "- How to Define a Generator:\n",
        "\n",
        "Generators are defined similarly to regular functions but use the 'yield' keyword to return values one at a time. Here's a simple example:"
      ],
      "metadata": {
        "id": "l67bUneGTHC3"
      }
    },
    {
      "cell_type": "code",
      "source": [
        "def simple_generator():\n",
        "    yield 1\n",
        "    yield 2\n",
        "    yield 3\n",
        "\n",
        "# Using the generator\n",
        "gen = simple_generator()\n",
        "\n",
        "print(next(gen))  # Output: 1\n",
        "print(next(gen))  # Output: 2\n",
        "print(next(gen))  # Output: 3\n"
      ],
      "metadata": {
        "id": "OZ28meuiZfgA"
      },
      "execution_count": null,
      "outputs": []
    },
    {
      "cell_type": "markdown",
      "source": [
        "7. **What are the advantages of using generators over regular functions?**\n",
        "- Generators in Python offer several advantages over regular functions, especially when dealing with large data sets or streams. Here are some key benefits:\n",
        "\n",
        "  - Memory Efficiency: Generators only produce items one at a time and don't store them in memory, which is particularly useful for processing large datasets.\n",
        "\n",
        "  - Lazy Evaluation: Generators evaluate values on the fly and produce them as needed. This allows for efficient data processing without loading the entire dataset into memory.\n",
        "\n",
        "  - Improved Performance: Since generators yield items one at a time, they can start producing output immediately, providing a faster response time in certain scenarios.\n",
        "\n",
        "  - Simplified Code: Generators can simplify code that deals with large sequences or infinite streams by maintaining the state between iterations. This can lead to cleaner and more readable code.\n",
        "\n",
        "  - Iterables: Generators are a convenient way to create iterators without the overhead of building custom iterator classes.\n",
        "\n",
        "\n",
        "\n",
        "\n",
        "\n"
      ],
      "metadata": {
        "id": "TAFTv2d-Zjsx"
      }
    },
    {
      "cell_type": "code",
      "source": [
        "def numbering(n):\n",
        "    while n > 0:\n",
        "        yield n\n",
        "        n -= 1\n",
        "\n",
        "for number in numbering(5):\n",
        "    print(number)\n",
        "#In this example, the numbering function is a generator that yields values from n down to 1,\n",
        "#demonstrating how generators can be used to create simple yet powerful iterators.\n"
      ],
      "metadata": {
        "colab": {
          "base_uri": "https://localhost:8080/"
        },
        "id": "gKOTXndcTE0v",
        "outputId": "0b8e01fe-54b9-4b68-aa9b-d24aa3dbb7e7"
      },
      "execution_count": null,
      "outputs": [
        {
          "output_type": "stream",
          "name": "stdout",
          "text": [
            "5\n",
            "4\n",
            "3\n",
            "2\n",
            "1\n"
          ]
        }
      ]
    },
    {
      "cell_type": "markdown",
      "source": [
        "8. **What is a lambda function in Python and when is it typically used?**\n",
        "- A lambda function in Python is a small, anonymous function defined using the lambda keyword. These functions are generally used when you need a simple function for a short period of time and don't want to define a full function using the def keyword. Lambda functions can have any number of arguments but only one expression. The expression is evaluated and returned.\n",
        "\n",
        "- When to use lambda functions:\n",
        "  - Short, Simple Functions: When you need a small function that doesn't warrant a formal definition.\n",
        "\n",
        "  - Anonymous Functions: Useful when you need a temporary function without a name.\n",
        "\n",
        "  - Functional Programming: Commonly used with functions like map(), filter(), and reduce() where you need to pass a function as an argument.\n",
        "\n",
        "  - Inline Operations: When performing operations in a concise and readable manner.-"
      ],
      "metadata": {
        "id": "Jgm-lOzkT-kc"
      }
    },
    {
      "cell_type": "code",
      "source": [
        "# Using lambda in map()\n",
        "numbers = [1, 2, 3, 4, 5]\n",
        "squared = list(map(lambda x: x ** 2, numbers))\n",
        "print(squared)\n"
      ],
      "metadata": {
        "colab": {
          "base_uri": "https://localhost:8080/"
        },
        "id": "4lTtmYtkTIgN",
        "outputId": "c5dbf842-e5ba-4573-8b9d-5a868e7eab52"
      },
      "execution_count": null,
      "outputs": [
        {
          "output_type": "stream",
          "name": "stdout",
          "text": [
            "[1, 4, 9, 16, 25]\n"
          ]
        }
      ]
    },
    {
      "cell_type": "code",
      "source": [
        "# Using lambda in filter()\n",
        "numbers = [1, 2, 3, 4, 5, 6]\n",
        "evens = filter(lambda x: x % 2 == 0, numbers)\n",
        "print(list(evens))\n"
      ],
      "metadata": {
        "colab": {
          "base_uri": "https://localhost:8080/"
        },
        "id": "7ZMnI4dNWCvj",
        "outputId": "24de4ea9-878c-425f-8ae6-bad0f174c29c"
      },
      "execution_count": null,
      "outputs": [
        {
          "output_type": "stream",
          "name": "stdout",
          "text": [
            "[2, 4, 6]\n"
          ]
        }
      ]
    },
    {
      "cell_type": "code",
      "source": [
        "# Using lambda for sorting\n",
        "points = [(2, 3), (1, 2), (4, 1)]\n",
        "sorted_points = sorted(points, key=lambda point: point[1])\n",
        "print(sorted_points)"
      ],
      "metadata": {
        "colab": {
          "base_uri": "https://localhost:8080/"
        },
        "id": "S6Dw6LbRWOVr",
        "outputId": "ea96becb-67d0-49fe-b61c-6a63a35e7acf"
      },
      "execution_count": null,
      "outputs": [
        {
          "output_type": "stream",
          "name": "stdout",
          "text": [
            "[(4, 1), (1, 2), (2, 3)]\n"
          ]
        }
      ]
    },
    {
      "cell_type": "markdown",
      "source": [
        "9.**Explain the purpose and usage of the `map()` function in Python**.\n",
        "- The map() function in Python is used to apply a given function to all items in an input iterable (like a list, tuple, etc.) and returns a map object (which is an iterator) containing the results. Essentially, it's a way to transform data in a list-like structure by applying a function to each element.\n",
        "\n",
        "**Purpose:**\n",
        "\n",
        "- The main purpose of map() is to simplify and make your code more readable when you need to perform the same operation on multiple elements in an iterable. Instead of writing a loop to apply a function to each element, you can use map() to achieve the same result in a more concise and elegant way.\n",
        "\n",
        "Usage:\n",
        "\n",
        " - The syntax for map() is: >>-  map(function, iterable, ...)\n",
        " - **function**: A function that you want to apply to each element of the iterable.\n",
        "\n",
        " - **iterable**: One or more iterables whose elements will be passed to the function.\n",
        " - Examples:\n"
      ],
      "metadata": {
        "id": "PsY_RKjJe5os"
      }
    },
    {
      "cell_type": "code",
      "source": [
        "# Single Iterable: Apply a function to each element in a list:\n",
        "\n",
        "def square(x):\n",
        "  return x*x\n",
        "\n",
        "numbers = [5,15,25,35,45]\n",
        "squared_numbers = list(map(square,numbers))\n",
        "print(squared_numbers)"
      ],
      "metadata": {
        "colab": {
          "base_uri": "https://localhost:8080/"
        },
        "id": "lkC8DhqZWYvr",
        "outputId": "8bf11693-901b-4a85-d23a-4fb3a2905bd9"
      },
      "execution_count": null,
      "outputs": [
        {
          "output_type": "stream",
          "name": "stdout",
          "text": [
            "[25, 225, 625, 1225, 2025]\n"
          ]
        }
      ]
    },
    {
      "cell_type": "code",
      "source": [
        "# Lambda Function: Use a lambda function with map():\n",
        "numbers = [5,15,25,35,45]\n",
        "squared_numbers = list(map(lambda x : x*x,numbers))\n",
        "print(squared_numbers)\n"
      ],
      "metadata": {
        "colab": {
          "base_uri": "https://localhost:8080/"
        },
        "id": "mwFTJR2fxCRM",
        "outputId": "2723b426-d85a-4a49-95bb-bda7e28d1d93"
      },
      "execution_count": null,
      "outputs": [
        {
          "output_type": "stream",
          "name": "stdout",
          "text": [
            "[25, 225, 625, 1225, 2025]\n"
          ]
        }
      ]
    },
    {
      "cell_type": "markdown",
      "source": [
        "9.**What is the difference between `map()`, `reduce()`, and `filter()` functions in Python?**\n",
        "\n",
        "  **map()**\n",
        "\n",
        "- Purpose: Applies a given function to all items in an iterable (e.g., list, tuple) and returns a map object (an iterator).\n",
        "\n",
        "- Usage: When you want to transform each item in an iterable.\n",
        "\n",
        "- Example: Squaring each element in a list."
      ],
      "metadata": {
        "id": "mO9GZg33ykyz"
      }
    },
    {
      "cell_type": "code",
      "source": [
        "numbers = [1, 2, 3, 4]\n",
        "squared_numbers = map(lambda x: x ** 2, numbers)\n",
        "print(list(squared_numbers))\n"
      ],
      "metadata": {
        "colab": {
          "base_uri": "https://localhost:8080/"
        },
        "id": "ZGW5tCKdxbl8",
        "outputId": "6baa6442-2f41-466c-aa9b-340245c41ab9"
      },
      "execution_count": null,
      "outputs": [
        {
          "output_type": "stream",
          "name": "stdout",
          "text": [
            "[1, 4, 9, 16]\n"
          ]
        }
      ]
    },
    {
      "cell_type": "markdown",
      "source": [
        "**reduce()**\n",
        "\n",
        "- Purpose: Applies a given function to the items in an iterable cumulatively to reduce the iterable to a single value.\n",
        "\n",
        "- Usage: When you want to aggregate values (e.g., sum, product).\n",
        "\n",
        "- Example: Summing all elements in a list."
      ],
      "metadata": {
        "id": "ey8Q9McOzWwc"
      }
    },
    {
      "cell_type": "code",
      "source": [
        "from functools import reduce\n",
        "\n",
        "numbers = [6,7,8,9,10]\n",
        "sum_of_numbers = reduce(lambda x,y : x+y,numbers)\n",
        "print(sum_of_numbers)\n"
      ],
      "metadata": {
        "colab": {
          "base_uri": "https://localhost:8080/"
        },
        "id": "bq9E4kblzK0O",
        "outputId": "d0befcdf-492f-4982-dd58-ae208dd2f997"
      },
      "execution_count": null,
      "outputs": [
        {
          "output_type": "stream",
          "name": "stdout",
          "text": [
            "40\n"
          ]
        }
      ]
    },
    {
      "cell_type": "markdown",
      "source": [
        "**filter()**\n",
        "\n",
        "- Purpose: Applies a given function to all items in an iterable and returns an iterator with only the items for which the function returns True.\n",
        "\n",
        "- Usage: When you want to filter out items based on a condition.\n",
        "\n",
        "- Example: Filtering out even numbers from a list."
      ],
      "metadata": {
        "id": "tWf8Vkp30iNW"
      }
    },
    {
      "cell_type": "code",
      "source": [
        "numbers = [1, 2, 3, 4, 5, 6]\n",
        "even_numbers = filter(lambda x: x % 2 == 0, numbers)\n",
        "print(list(even_numbers))\n"
      ],
      "metadata": {
        "colab": {
          "base_uri": "https://localhost:8080/"
        },
        "id": "JJZVKySGzt7E",
        "outputId": "2bed9c78-2f5a-4b84-f2df-dc969045bfea"
      },
      "execution_count": null,
      "outputs": [
        {
          "output_type": "stream",
          "name": "stdout",
          "text": [
            "[2, 4, 6]\n"
          ]
        }
      ]
    },
    {
      "cell_type": "markdown",
      "source": [
        "10.  **Using pen & Paper write the internal mechanism for sum operation using  reduce function on this given list:[47,11,42,13]**"
      ],
      "metadata": {
        "id": "WCOpL_bA2aLu"
      }
    },
    {
      "cell_type": "markdown",
      "source": [
        "![WhatsApp Image 2025-02-25 at 22.23.22_a806a7a5.jpg](data:image/jpeg;base64,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)"
      ],
      "metadata": {
        "id": "iQ7GT2jt2ybM"
      }
    },
    {
      "cell_type": "markdown",
      "source": [
        "# **Practical Questions:**"
      ],
      "metadata": {
        "id": "oG1qcHeBDGQy"
      }
    },
    {
      "cell_type": "markdown",
      "source": [
        "1.**Write a Python function that takes a list of numbers as input and returns the sum of all even numbers in the list.**"
      ],
      "metadata": {
        "id": "8yXtI4UMDNTg"
      }
    },
    {
      "cell_type": "code",
      "source": [
        "def sum_of_even_num(num):\n",
        "  even_num_sum = sum([i for i in num if i% 2  == 0])\n",
        "  return even_num_sum\n",
        "\n",
        "numbers = [11,12,13,14,15,16]\n",
        "result = sum_of_even_num(numbers)\n",
        "print(\"sum of even numbers: \"  ,result)\n"
      ],
      "metadata": {
        "colab": {
          "base_uri": "https://localhost:8080/"
        },
        "id": "La1YBVzl1-zU",
        "outputId": "d3ad22b5-0033-4277-b88b-947e1d39648c"
      },
      "execution_count": null,
      "outputs": [
        {
          "output_type": "stream",
          "name": "stdout",
          "text": [
            "sum of even numbers:  42\n"
          ]
        }
      ]
    },
    {
      "cell_type": "markdown",
      "source": [
        "2.**Create a Python function that accepts a string and returns the reverse of that string.**"
      ],
      "metadata": {
        "id": "5jJrN89IG8vX"
      }
    },
    {
      "cell_type": "code",
      "source": [
        "def reverse_string(input_str):\n",
        "  return input_str[: : -1]\n",
        "\n",
        "new_str = \"Data Science\"\n",
        "changed_reverse_string = reverse_string(new_str)\n",
        "print(\"Reversed string is: \" ,changed_reverse_string)"
      ],
      "metadata": {
        "colab": {
          "base_uri": "https://localhost:8080/"
        },
        "id": "VnKbxRHtGpwH",
        "outputId": "56de6274-1ff5-4f77-d7f7-76336d6bba38"
      },
      "execution_count": null,
      "outputs": [
        {
          "output_type": "stream",
          "name": "stdout",
          "text": [
            "Reversed string is:  ecneicS ataD\n"
          ]
        }
      ]
    },
    {
      "cell_type": "markdown",
      "source": [
        "3. **Implement a Python function that takes a list of integers and returns a new list containing the squares of each number**."
      ],
      "metadata": {
        "id": "03qXO2p9JlQz"
      }
    },
    {
      "cell_type": "code",
      "source": [
        "def squared(numbers):\n",
        "  return[num**2 for num in numbers]"
      ],
      "metadata": {
        "id": "WUoUJ0pUJYDx"
      },
      "execution_count": null,
      "outputs": []
    },
    {
      "cell_type": "code",
      "source": [
        "num_list= [3,5,7,8,9]\n",
        "squared_num_list = squared(num_list)\n",
        "print(squared_num_list)"
      ],
      "metadata": {
        "colab": {
          "base_uri": "https://localhost:8080/"
        },
        "id": "yhNkhYmYo7SH",
        "outputId": "eeb4f8b6-1e57-4028-e119-977f7c25bebb"
      },
      "execution_count": null,
      "outputs": [
        {
          "output_type": "stream",
          "name": "stdout",
          "text": [
            "[9, 25, 49, 64, 81]\n"
          ]
        }
      ]
    },
    {
      "cell_type": "markdown",
      "source": [
        "4. **Write a Python function that checks if a given number is prime or not from 1 to 200**."
      ],
      "metadata": {
        "id": "mxG1IliEphp6"
      }
    },
    {
      "cell_type": "code",
      "source": [
        "def prime(number):\n",
        "  if number <= 1:\n",
        "    return False\n",
        "  for i in range(2, int(number ** 0.5 +1)):\n",
        "    if number % i == 0:\n",
        "      return False\n",
        "  else:\n",
        "    return True\n",
        "\n",
        "for num in range(1,201):\n",
        "  if prime(num):\n",
        "    print(f\"{num} is a prime number\")\n",
        "  else:\n",
        "    print(f\"{num} is not a prime number\")\n"
      ],
      "metadata": {
        "colab": {
          "base_uri": "https://localhost:8080/"
        },
        "id": "pUaixyydpV3t",
        "outputId": "270954e8-8e1c-4ccc-e8d8-e8f7e65eaa3c"
      },
      "execution_count": null,
      "outputs": [
        {
          "output_type": "stream",
          "name": "stdout",
          "text": [
            "1 is not a prime number\n",
            "2 is a prime number\n",
            "3 is a prime number\n",
            "4 is not a prime number\n",
            "5 is a prime number\n",
            "6 is not a prime number\n",
            "7 is a prime number\n",
            "8 is not a prime number\n",
            "9 is not a prime number\n",
            "10 is not a prime number\n",
            "11 is a prime number\n",
            "12 is not a prime number\n",
            "13 is a prime number\n",
            "14 is not a prime number\n",
            "15 is not a prime number\n",
            "16 is not a prime number\n",
            "17 is a prime number\n",
            "18 is not a prime number\n",
            "19 is a prime number\n",
            "20 is not a prime number\n",
            "21 is not a prime number\n",
            "22 is not a prime number\n",
            "23 is a prime number\n",
            "24 is not a prime number\n",
            "25 is not a prime number\n",
            "26 is not a prime number\n",
            "27 is not a prime number\n",
            "28 is not a prime number\n",
            "29 is a prime number\n",
            "30 is not a prime number\n",
            "31 is a prime number\n",
            "32 is not a prime number\n",
            "33 is not a prime number\n",
            "34 is not a prime number\n",
            "35 is not a prime number\n",
            "36 is not a prime number\n",
            "37 is a prime number\n",
            "38 is not a prime number\n",
            "39 is not a prime number\n",
            "40 is not a prime number\n",
            "41 is a prime number\n",
            "42 is not a prime number\n",
            "43 is a prime number\n",
            "44 is not a prime number\n",
            "45 is not a prime number\n",
            "46 is not a prime number\n",
            "47 is a prime number\n",
            "48 is not a prime number\n",
            "49 is not a prime number\n",
            "50 is not a prime number\n",
            "51 is not a prime number\n",
            "52 is not a prime number\n",
            "53 is a prime number\n",
            "54 is not a prime number\n",
            "55 is not a prime number\n",
            "56 is not a prime number\n",
            "57 is not a prime number\n",
            "58 is not a prime number\n",
            "59 is a prime number\n",
            "60 is not a prime number\n",
            "61 is a prime number\n",
            "62 is not a prime number\n",
            "63 is not a prime number\n",
            "64 is not a prime number\n",
            "65 is not a prime number\n",
            "66 is not a prime number\n",
            "67 is a prime number\n",
            "68 is not a prime number\n",
            "69 is not a prime number\n",
            "70 is not a prime number\n",
            "71 is a prime number\n",
            "72 is not a prime number\n",
            "73 is a prime number\n",
            "74 is not a prime number\n",
            "75 is not a prime number\n",
            "76 is not a prime number\n",
            "77 is not a prime number\n",
            "78 is not a prime number\n",
            "79 is a prime number\n",
            "80 is not a prime number\n",
            "81 is not a prime number\n",
            "82 is not a prime number\n",
            "83 is a prime number\n",
            "84 is not a prime number\n",
            "85 is not a prime number\n",
            "86 is not a prime number\n",
            "87 is not a prime number\n",
            "88 is not a prime number\n",
            "89 is a prime number\n",
            "90 is not a prime number\n",
            "91 is not a prime number\n",
            "92 is not a prime number\n",
            "93 is not a prime number\n",
            "94 is not a prime number\n",
            "95 is not a prime number\n",
            "96 is not a prime number\n",
            "97 is a prime number\n",
            "98 is not a prime number\n",
            "99 is not a prime number\n",
            "100 is not a prime number\n",
            "101 is a prime number\n",
            "102 is not a prime number\n",
            "103 is a prime number\n",
            "104 is not a prime number\n",
            "105 is not a prime number\n",
            "106 is not a prime number\n",
            "107 is a prime number\n",
            "108 is not a prime number\n",
            "109 is a prime number\n",
            "110 is not a prime number\n",
            "111 is not a prime number\n",
            "112 is not a prime number\n",
            "113 is a prime number\n",
            "114 is not a prime number\n",
            "115 is not a prime number\n",
            "116 is not a prime number\n",
            "117 is not a prime number\n",
            "118 is not a prime number\n",
            "119 is not a prime number\n",
            "120 is not a prime number\n",
            "121 is not a prime number\n",
            "122 is not a prime number\n",
            "123 is not a prime number\n",
            "124 is not a prime number\n",
            "125 is not a prime number\n",
            "126 is not a prime number\n",
            "127 is a prime number\n",
            "128 is not a prime number\n",
            "129 is not a prime number\n",
            "130 is not a prime number\n",
            "131 is a prime number\n",
            "132 is not a prime number\n",
            "133 is not a prime number\n",
            "134 is not a prime number\n",
            "135 is not a prime number\n",
            "136 is not a prime number\n",
            "137 is a prime number\n",
            "138 is not a prime number\n",
            "139 is a prime number\n",
            "140 is not a prime number\n",
            "141 is not a prime number\n",
            "142 is not a prime number\n",
            "143 is not a prime number\n",
            "144 is not a prime number\n",
            "145 is not a prime number\n",
            "146 is not a prime number\n",
            "147 is not a prime number\n",
            "148 is not a prime number\n",
            "149 is a prime number\n",
            "150 is not a prime number\n",
            "151 is a prime number\n",
            "152 is not a prime number\n",
            "153 is not a prime number\n",
            "154 is not a prime number\n",
            "155 is not a prime number\n",
            "156 is not a prime number\n",
            "157 is a prime number\n",
            "158 is not a prime number\n",
            "159 is not a prime number\n",
            "160 is not a prime number\n",
            "161 is not a prime number\n",
            "162 is not a prime number\n",
            "163 is a prime number\n",
            "164 is not a prime number\n",
            "165 is not a prime number\n",
            "166 is not a prime number\n",
            "167 is a prime number\n",
            "168 is not a prime number\n",
            "169 is not a prime number\n",
            "170 is not a prime number\n",
            "171 is not a prime number\n",
            "172 is not a prime number\n",
            "173 is a prime number\n",
            "174 is not a prime number\n",
            "175 is not a prime number\n",
            "176 is not a prime number\n",
            "177 is not a prime number\n",
            "178 is not a prime number\n",
            "179 is a prime number\n",
            "180 is not a prime number\n",
            "181 is a prime number\n",
            "182 is not a prime number\n",
            "183 is not a prime number\n",
            "184 is not a prime number\n",
            "185 is not a prime number\n",
            "186 is not a prime number\n",
            "187 is not a prime number\n",
            "188 is not a prime number\n",
            "189 is not a prime number\n",
            "190 is not a prime number\n",
            "191 is a prime number\n",
            "192 is not a prime number\n",
            "193 is a prime number\n",
            "194 is not a prime number\n",
            "195 is not a prime number\n",
            "196 is not a prime number\n",
            "197 is a prime number\n",
            "198 is not a prime number\n",
            "199 is a prime number\n",
            "200 is not a prime number\n"
          ]
        }
      ]
    },
    {
      "cell_type": "markdown",
      "source": [
        "5. **Create an iterator class in Python that generates the Fibonacci sequence up to a specified number of terms** ."
      ],
      "metadata": {
        "id": "DaFB7X5Q0XJE"
      }
    },
    {
      "cell_type": "code",
      "source": [
        "class Fibonacci:\n",
        "  def __init__(self,terms):\n",
        "      self.terms = terms\n",
        "      self.current = 0\n",
        "      self.next = 1\n",
        "      self.count = 0\n",
        "\n",
        "  def __iter__(self):\n",
        "    return self\n",
        "\n",
        "  def __next__(self):\n",
        "     if self.count >= self.terms:\n",
        "      raise StopIteration\n",
        "     else:\n",
        "       if self.count == 0 :\n",
        "        result = self.current\n",
        "       elif self.count ==1:\n",
        "        result = self.next\n",
        "       else:\n",
        "        result =self.current +self.next\n",
        "        self.current,self.next = self.next,result\n",
        "\n",
        "       self.count +=1\n",
        "       return result\n",
        "\n",
        "\n",
        "\n",
        "\n"
      ],
      "metadata": {
        "id": "iBJMeKdaw8OD"
      },
      "execution_count": null,
      "outputs": []
    },
    {
      "cell_type": "code",
      "source": [
        "fib = Fibonacci(10)\n",
        "for num in fib:\n",
        "    print(num )"
      ],
      "metadata": {
        "colab": {
          "base_uri": "https://localhost:8080/"
        },
        "id": "TlYNMh5uJg9e",
        "outputId": "48e875c2-5df3-45d9-9048-234c78788723"
      },
      "execution_count": null,
      "outputs": [
        {
          "output_type": "stream",
          "name": "stdout",
          "text": [
            "0\n",
            "1\n",
            "1\n",
            "2\n",
            "3\n",
            "5\n",
            "8\n",
            "13\n",
            "21\n",
            "34\n"
          ]
        }
      ]
    },
    {
      "cell_type": "markdown",
      "source": [
        "6. **Write a generator function in Python that yields the powers of 2 up to a given exponent**."
      ],
      "metadata": {
        "id": "Gos1jm1pKT7_"
      }
    },
    {
      "cell_type": "code",
      "source": [
        "# generators function\n",
        "def powers_2(n):\n",
        "  exponent = 0\n",
        "  while exponent <=n:\n",
        "    yield 2** exponent\n",
        "    exponent += 1\n",
        "\n",
        "\n",
        "# Example\n",
        "for power in powers_2(5):\n",
        "    print(power)"
      ],
      "metadata": {
        "id": "X36fbF8rKHDK",
        "colab": {
          "base_uri": "https://localhost:8080/"
        },
        "outputId": "8f958dcc-6149-44eb-c7f2-636b49cf05a1"
      },
      "execution_count": 8,
      "outputs": [
        {
          "output_type": "stream",
          "name": "stdout",
          "text": [
            "1\n",
            "2\n",
            "4\n",
            "8\n",
            "16\n",
            "32\n"
          ]
        }
      ]
    },
    {
      "cell_type": "markdown",
      "source": [
        " 7. **Implement a generator function that reads a file line by line and yields each line as a string**."
      ],
      "metadata": {
        "id": "fDylfMK4uudk"
      }
    },
    {
      "cell_type": "code",
      "source": [
        "def read_paragraph_line_by_line(paragraph):\n",
        "    lines = paragraph.split('\\n')\n",
        "    for line in lines:\n",
        "        yield line.strip()\n",
        "\n",
        "#  paragraph input\n",
        "paragraph = \"\"\"\n",
        "This is the first line of the paragraph.\n",
        "Here is the second line.\n",
        "And this is the third line.\n",
        "\"\"\"\n",
        "\n",
        "# Example\n",
        "for line in read_paragraph_line_by_line(paragraph):\n",
        "    print(line)"
      ],
      "metadata": {
        "colab": {
          "base_uri": "https://localhost:8080/"
        },
        "id": "kjNqwMWKxdpY",
        "outputId": "5a076caa-89fd-4908-cc79-3c4c3bb5db1d"
      },
      "execution_count": 6,
      "outputs": [
        {
          "output_type": "stream",
          "name": "stdout",
          "text": [
            "\n",
            "This is the first line of the paragraph.\n",
            "Here is the second line.\n",
            "And this is the third line.\n",
            "\n"
          ]
        }
      ]
    },
    {
      "cell_type": "markdown",
      "source": [
        "8. **Use a lambda function in Python to sort a list of tuples based on the second element of each tuple**."
      ],
      "metadata": {
        "id": "URmLo4xU37Yg"
      }
    },
    {
      "cell_type": "code",
      "source": [
        "\n",
        "tuples_list = [(1, 3), (4, 1), (2, 2), (5, 0)]\n",
        "\n",
        "# Sorting the list of tuples based on the second element\n",
        "sorted_tuples = sorted(tuples_list, key=lambda x: x[1])\n",
        "\n",
        "print(sorted_tuples)\n"
      ],
      "metadata": {
        "colab": {
          "base_uri": "https://localhost:8080/"
        },
        "id": "pRGn5wf_vhI7",
        "outputId": "13a0f958-9a38-4beb-c3f8-905bbcbcf42d"
      },
      "execution_count": 8,
      "outputs": [
        {
          "output_type": "stream",
          "name": "stdout",
          "text": [
            "[(5, 0), (4, 1), (2, 2), (1, 3)]\n"
          ]
        }
      ]
    },
    {
      "cell_type": "markdown",
      "source": [
        "9. **Write a Python program that uses `map()` to convert a list of temperatures from Celsius to Fahrenheit**."
      ],
      "metadata": {
        "id": "45hoqv2VR_KH"
      }
    },
    {
      "cell_type": "code",
      "source": [
        "\n",
        "def celsius_to_fahrenheit(celsius):\n",
        "    return (celsius * 9/5) + 32\n",
        "\n",
        "\n",
        "celsius_temperatures = [0, -40, 37, 100]\n",
        "\n",
        "\n",
        "fahrenheit_temperatures = list(map(celsius_to_fahrenheit, celsius_temperatures))\n",
        "\n",
        "\n",
        "print(fahrenheit_temperatures)\n"
      ],
      "metadata": {
        "colab": {
          "base_uri": "https://localhost:8080/"
        },
        "id": "vNtOfO23R-pP",
        "outputId": "1fd19128-3b5a-41c5-c072-289d504f7ce7"
      },
      "execution_count": 9,
      "outputs": [
        {
          "output_type": "stream",
          "name": "stdout",
          "text": [
            "[32.0, -40.0, 98.6, 212.0]\n"
          ]
        }
      ]
    },
    {
      "cell_type": "markdown",
      "source": [
        " 10. **Create a Python program that uses `filter()` to remove all the vowels from a given string**."
      ],
      "metadata": {
        "id": "e0kBPRJHXGNf"
      }
    },
    {
      "cell_type": "code",
      "source": [
        "def remove_vowels(input_string):\n",
        "    vowels = \"aeiouAEIOU\"\n",
        "    return ''.join(filter(lambda x: x not in vowels, input_string))\n",
        "\n",
        "# Example usage:\n",
        "input_string = \"This is an example string.\"\n",
        "result = remove_vowels(input_string)\n",
        "print(result)"
      ],
      "metadata": {
        "colab": {
          "base_uri": "https://localhost:8080/"
        },
        "id": "Jp41VapADInB",
        "outputId": "53357721-b271-45ba-d99c-d9c90dd8dd2a"
      },
      "execution_count": 10,
      "outputs": [
        {
          "output_type": "stream",
          "name": "stdout",
          "text": [
            "Ths s n xmpl strng.\n"
          ]
        }
      ]
    },
    {
      "cell_type": "markdown",
      "source": [
        " 10.  Imagine an accounting routine used in a book shop. It works on a list with sublists, which look like this:\n",
        " ![image.png](data:image/png;base64,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)\n",
        "\n",
        " - Write a Python program, which returns a list with 2-tuples. Each tuple consists of the order number and the\n",
        "product of the price per item and the quantity. The product should be increased by 10,- € if the value of the\n",
        "order is smaller than 100,00 €.\n",
        " - Write a Python program using lambda and map"
      ],
      "metadata": {
        "id": "-aNGSZ87Z4sT"
      }
    },
    {
      "cell_type": "code",
      "source": [
        "# List of orders\n",
        "orders = [\n",
        "    (34587, 'Learning Python, Mark Lutz', 4, 40.95),\n",
        "    (98762, 'Programming Python, Mark Lutz', 5, 56.80),\n",
        "    (77226, 'Head First Python, Paul Barry', 3, 32.95),\n",
        "    (88112, 'Einführung in Python3, Bernd Klein', 3, 24.99)\n",
        "]\n",
        "\n",
        "# Function to calculate the total price and add 10 € if the total is less than 10000 €\n",
        "calculate_total_price = lambda order: (order[0], order[2] * order[3] + (10 if order[2] * order[3] < 10000 else 0))\n",
        "\n",
        "# Use map to apply the function to all orders\n",
        "result = list(map(calculate_total_price, orders))\n",
        "\n",
        "# Print the result\n",
        "print(result)\n"
      ],
      "metadata": {
        "colab": {
          "base_uri": "https://localhost:8080/"
        },
        "id": "A9Pjn5mJZuYe",
        "outputId": "349b5b73-cb91-45b3-dd30-74af5c4c7118"
      },
      "execution_count": 1,
      "outputs": [
        {
          "output_type": "stream",
          "name": "stdout",
          "text": [
            "[(34587, 173.8), (98762, 294.0), (77226, 108.85000000000001), (88112, 84.97)]\n"
          ]
        }
      ]
    },
    {
      "cell_type": "code",
      "source": [],
      "metadata": {
        "id": "CoCvJPGocVV4"
      },
      "execution_count": null,
      "outputs": []
    }
  ]
}